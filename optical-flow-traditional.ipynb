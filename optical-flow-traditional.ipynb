{
 "metadata": {
  "language_info": {
   "codemirror_mode": {
    "name": "ipython",
    "version": 3
   },
   "file_extension": ".py",
   "mimetype": "text/x-python",
   "name": "python",
   "nbconvert_exporter": "python",
   "pygments_lexer": "ipython3",
   "version": "3.8.6"
  },
  "orig_nbformat": 2,
  "kernelspec": {
   "name": "python3",
   "display_name": "Python 3.8.6 64-bit",
   "metadata": {
    "interpreter": {
     "hash": "df4093ff62ee000eec078cd02037cca99feaaf0d7513c455654d45fc1e6af41f"
    }
   }
  }
 },
 "nbformat": 4,
 "nbformat_minor": 2,
 "cells": [
  {
   "cell_type": "code",
   "execution_count": 25,
   "metadata": {},
   "outputs": [],
   "source": [
    "import cv2 as cv\n",
    "import numpy as np\n",
    "import glob\n",
    "import matplotlib.pyplot as plt\n",
    "import re\n",
    "import os"
   ]
  },
  {
   "cell_type": "code",
   "execution_count": 27,
   "metadata": {},
   "outputs": [],
   "source": [
    "def optFlowTrans(input_path, v=False):\n",
    "    \n",
    "    frame_div = 1\n",
    "    img_size = (128,128)\n",
    "\n",
    "    cap = cv.VideoCapture(input_path)\n",
    "    ret, first_frame = cap.read()\n",
    "    first_frame = cv.resize(first_frame, img_size)\n",
    "    \n",
    "    prev_gray = cv.cvtColor(first_frame, cv.COLOR_BGR2GRAY)\n",
    "    mask = np.zeros_like(first_frame)\n",
    "    mask[..., 1] = 255\n",
    "    i = 0\n",
    "    if not os.path.exists(\"input_transformed/vid/\"):\n",
    "        os.mkdir(\"input_transformed/vid/\")\n",
    "    if not os.path.exists(f\"input_transformed/vid/{input_path[6:-4]}/\"):\n",
    "        os.mkdir(f\"input_transformed/vid/{input_path[6:-4]}/\")\n",
    "    if not os.path.exists(\"input_transformed/flow\"):\n",
    "        os.mkdir(\"input_transformed/flow/\")\n",
    "    if not os.path.exists(f\"input_transformed/flow/{input_path[6:-4]}/\"):\n",
    "        os.mkdir(f\"input_transformed/flow/{input_path[6:-4]}/\")\n",
    "    while(cap.isOpened()):\n",
    "        try:\n",
    "            ret, frame = cap.read()\n",
    "            if ret:\n",
    "                frame = cv.resize(frame, img_size)\n",
    "                gray = cv.cvtColor(frame, cv.COLOR_BGR2GRAY)\n",
    "                # https://docs.opencv.org/3.0-beta/modules/video/doc/motion_analysis_and_object_tracking.html#calcopticalflowfarneback\n",
    "                flow = cv.calcOpticalFlowFarneback(prev_gray, gray, None, 0.5, 3, 20, 3, 7, 1.5, 0)\n",
    "\n",
    "                magnitude, angle = cv.cartToPolar(flow[..., 0], flow[..., 1])\n",
    "                mask[..., 0] = angle * 180 / np.pi / 2\n",
    "                mask[..., 2] = cv.normalize(magnitude, None, 0, 255, cv.NORM_MINMAX)\n",
    "                \n",
    "                rgb = cv.cvtColor(mask, cv.COLOR_HSV2BGR)\n",
    "                \n",
    "                prev_gray = gray\n",
    "                if i % frame_div == 0:\n",
    "                    cv.imwrite(f\"input_transformed/flow/{input_path[6:-4]}/frame_{(i//frame_div):04d}.png\", rgb)\n",
    "                    cv.imwrite(f\"input_transformed/vid/{input_path[6:-4]}/frame_{(i//frame_div):04d}.png\", frame)\n",
    "                i+=1\n",
    "                if cv.waitKey(1) & 0xFF == ord('q'):\n",
    "                    break\n",
    "            else:\n",
    "                break\n",
    "        except Exception as e:\n",
    "            print(f'error: {e}')\n",
    "    cap.release()\n",
    "    if v:\n",
    "        print(f\"{i//frame_div} frames were captured\")\n",
    "\n"
   ]
  },
  {
   "cell_type": "code",
   "execution_count": 24,
   "metadata": {
    "tags": []
   },
   "outputs": [
    {
     "output_type": "stream",
     "name": "stdout",
     "text": [
      "104 frames were captured\n"
     ]
    }
   ],
   "source": [
    "optFlowTrans(\"input/DC_Personal_Trainer_-_How_To_Do_A_Push-up_The_RIGHT_Way_pushup_f_nm_np1_ri_goo_0.avi\", True)"
   ]
  },
  {
   "cell_type": "code",
   "execution_count": 28,
   "metadata": {},
   "outputs": [
    {
     "output_type": "stream",
     "name": "stdout",
     "text": [
      "692 frames were captured\n",
      "78 frames were captured\n",
      "78 frames were captured\n",
      "78 frames were captured\n",
      "78 frames were captured\n",
      "78 frames were captured\n",
      "72 frames were captured\n",
      "78 frames were captured\n",
      "104 frames were captured\n",
      "83 frames were captured\n",
      "78 frames were captured\n",
      "80 frames were captured\n",
      "78 frames were captured\n",
      "78 frames were captured\n",
      "78 frames were captured\n",
      "78 frames were captured\n",
      "78 frames were captured\n",
      "78 frames were captured\n",
      "77 frames were captured\n",
      "78 frames were captured\n",
      "103 frames were captured\n",
      "85 frames were captured\n",
      "80 frames were captured\n",
      "91 frames were captured\n",
      "78 frames were captured\n",
      "78 frames were captured\n",
      "78 frames were captured\n",
      "79 frames were captured\n",
      "79 frames were captured\n",
      "79 frames were captured\n",
      "78 frames were captured\n",
      "78 frames were captured\n",
      "78 frames were captured\n",
      "80 frames were captured\n",
      "79 frames were captured\n",
      "78 frames were captured\n",
      "79 frames were captured\n",
      "79 frames were captured\n",
      "79 frames were captured\n",
      "79 frames were captured\n",
      "79 frames were captured\n",
      "79 frames were captured\n",
      "79 frames were captured\n",
      "76 frames were captured\n",
      "80 frames were captured\n",
      "82 frames were captured\n",
      "77 frames were captured\n",
      "78 frames were captured\n",
      "79 frames were captured\n",
      "79 frames were captured\n",
      "78 frames were captured\n",
      "76 frames were captured\n",
      "79 frames were captured\n",
      "78 frames were captured\n",
      "79 frames were captured\n",
      "80 frames were captured\n",
      "77 frames were captured\n",
      "77 frames were captured\n",
      "77 frames were captured\n",
      "78 frames were captured\n",
      "142 frames were captured\n",
      "152 frames were captured\n",
      "110 frames were captured\n",
      "100 frames were captured\n",
      "88 frames were captured\n",
      "112 frames were captured\n",
      "80 frames were captured\n",
      "90 frames were captured\n",
      "78 frames were captured\n",
      "78 frames were captured\n",
      "77 frames were captured\n"
     ]
    }
   ],
   "source": [
    "# Gather input files\n",
    "inputs = glob.glob('input/*')\n",
    "\n",
    "for input_path in inputs:\n",
    "    input_path = input_path.replace(\"\\\\\",\"/\")\n",
    "    optFlowTrans(input_path, True)\n",
    "    "
   ]
  },
  {
   "cell_type": "code",
   "execution_count": 22,
   "metadata": {
    "tags": []
   },
   "outputs": [
    {
     "output_type": "stream",
     "name": "stdout",
     "text": [
      "10\n10\n10\n10\n10\n10\n10\n10\n10\n10\n10\n10\n10\n10\n10\n10\n10\n10\n10\n10\n10\n10\n10\n10\n10\n10\n11\n11\n11\n11\n11\n11\n11\n11\n11\n11\n11\n11\n11\n11\n11\n11\n11\n11\n11\n11\n11\n11\n11\n11\n11\n11\n12\n12\n12\n12\n12\n12\n12\n12\n12\n12\n12\n12\n12\n12\n12\n12\n12\n12\n12\n12\n12\n12\n12\n12\n12\n12\n13\n13\n13\n13\n13\n13\n13\n13\n13\n13\n13\n13\n13\n13\n13\n13\n13\n13\n13\n13\n13\n13\n13\n13\n13\n13\n14\n14\n14\n14\n14\n14\n14\n14\n14\n14\n14\n14\n14\n14\n14\n14\n14\n14\n14\n14\n14\n14\n14\n14\n14\n14\n15\n15\n15\n15\n15\n15\n15\n15\n15\n15\n15\n15\n15\n15\n15\n15\n15\n15\n15\n15\n15\n15\n15\n15\n16\n16\n16\n16\n16\n16\n16\n16\n16\n16\n16\n16\n16\n16\n16\n16\n16\n16\n16\n16\n16\n16\n16\n16\n16\n16\n17\n17\n17\n17\n17\n17\n17\n17\n17\n17\n17\n17\n17\n17\n17\n17\n17\n17\n17\n17\n17\n17\n17\n17\n17\n17\n17\n17\n17\n17\n17\n17\n17\n17\n17\n18\n18\n18\n18\n18\n18\n18\n18\n18\n18\n18\n18\n18\n18\n18\n18\n18\n18\n18\n18\n18\n18\n18\n18\n18\n18\n18\n18\n19\n19\n19\n19\n19\n19\n19\n19\n19\n19\n19\n19\n19\n19\n19\n19\n19\n19\n19\n19\n19\n19\n19\n19\n19\n19\n1\n1\n1\n1\n1\n1\n1\n1\n1\n1\n1\n1\n1\n1\n1\n1\n1\n1\n1\n1\n1\n1\n1\n1\n1\n1\n1\n1\n1\n1\n1\n1\n1\n1\n1\n1\n1\n1\n1\n1\n1\n1\n1\n1\n1\n1\n1\n1\n1\n1\n1\n1\n1\n1\n1\n1\n1\n1\n1\n1\n1\n1\n1\n1\n1\n1\n1\n1\n1\n1\n1\n1\n1\n1\n1\n1\n1\n1\n1\n1\n1\n1\n1\n1\n1\n1\n1\n1\n1\n1\n1\n1\n1\n1\n1\n1\n1\n1\n1\n1\n1\n1\n1\n1\n1\n1\n1\n1\n1\n1\n1\n1\n1\n1\n1\n1\n1\n1\n1\n1\n1\n1\n1\n1\n1\n1\n1\n1\n1\n1\n1\n1\n1\n1\n1\n1\n1\n1\n1\n1\n1\n1\n1\n1\n1\n1\n1\n1\n1\n1\n1\n1\n1\n1\n1\n1\n1\n1\n1\n1\n1\n1\n1\n1\n1\n1\n1\n1\n1\n1\n1\n1\n1\n1\n1\n1\n1\n1\n1\n1\n1\n1\n1\n1\n1\n1\n1\n1\n1\n1\n1\n1\n1\n1\n1\n1\n1\n1\n1\n1\n1\n1\n1\n1\n1\n1\n1\n1\n1\n1\n1\n1\n1\n1\n1\n1\n1\n1\n1\n1\n1\n1\n1\n1\n1\n1\n1\n1\n1\n1\n1\n20\n20\n20\n20\n20\n20\n20\n20\n20\n20\n20\n20\n20\n20\n20\n20\n20\n20\n20\n20\n20\n20\n20\n20\n20\n20\n21\n21\n21\n21\n21\n21\n21\n21\n21\n21\n21\n21\n21\n21\n21\n21\n21\n21\n21\n21\n21\n21\n21\n21\n21\n21\n22\n22\n22\n22\n22\n22\n22\n22\n22\n22\n22\n22\n22\n22\n22\n22\n22\n22\n22\n22\n22\n22\n22\n22\n22\n22\n23\n23\n23\n23\n23\n23\n23\n23\n23\n23\n23\n23\n23\n23\n23\n23\n23\n23\n23\n23\n23\n23\n23\n23\n23\n23\n24\n24\n24\n24\n24\n24\n24\n24\n24\n24\n24\n24\n24\n24\n24\n24\n24\n24\n24\n24\n24\n24\n24\n24\n24\n24\n25\n25\n25\n25\n25\n25\n25\n25\n25\n25\n25\n25\n25\n25\n25\n25\n25\n25\n25\n25\n25\n25\n25\n25\n25\n25\n26\n26\n26\n26\n26\n26\n26\n26\n26\n26\n26\n26\n26\n26\n26\n26\n26\n26\n26\n26\n26\n26\n26\n26\n26\n26\n27\n27\n27\n27\n27\n27\n27\n27\n27\n27\n27\n27\n27\n27\n27\n27\n27\n27\n27\n27\n27\n27\n27\n27\n27\n27\n28\n28\n28\n28\n28\n28\n28\n28\n28\n28\n28\n28\n28\n28\n28\n28\n28\n28\n28\n28\n28\n28\n28\n28\n28\n28\n28\n28\n28\n28\n28\n28\n28\n28\n28\n29\n29\n29\n29\n29\n29\n29\n29\n29\n29\n29\n29\n29\n29\n29\n29\n29\n29\n29\n29\n29\n29\n29\n29\n29\n29\n29\n29\n29\n2\n2\n2\n2\n2\n2\n2\n2\n2\n2\n2\n2\n2\n2\n2\n2\n2\n2\n2\n2\n2\n2\n2\n2\n2\n2\n2\n30\n30\n30\n30\n30\n30\n30\n30\n30\n30\n30\n30\n30\n30\n30\n30\n30\n30\n30\n30\n30\n30\n30\n30\n30\n30\n30\n30\n30\n30\n30\n31\n31\n31\n31\n31\n31\n31\n31\n31\n31\n31\n31\n31\n31\n31\n31\n31\n31\n31\n31\n31\n31\n31\n31\n31\n31\n32\n32\n32\n32\n32\n32\n32\n32\n32\n32\n32\n32\n32\n32\n32\n32\n32\n32\n32\n32\n32\n32\n32\n32\n32\n32\n33\n33\n33\n33\n33\n33\n33\n33\n33\n33\n33\n33\n33\n33\n33\n33\n33\n33\n33\n33\n33\n33\n33\n33\n33\n33\n34\n34\n34\n34\n34\n34\n34\n34\n34\n34\n34\n34\n34\n34\n34\n34\n34\n34\n34\n34\n34\n34\n34\n34\n34\n34\n34\n35\n35\n35\n35\n35\n35\n35\n35\n35\n35\n35\n35\n35\n35\n35\n35\n35\n35\n35\n35\n35\n35\n35\n35\n35\n35\n35\n36\n36\n36\n36\n36\n36\n36\n36\n36\n36\n36\n36\n36\n36\n36\n36\n36\n36\n36\n36\n36\n36\n36\n36\n36\n36\n36\n37\n37\n37\n37\n37\n37\n37\n37\n37\n37\n37\n37\n37\n37\n37\n37\n37\n37\n37\n37\n37\n37\n37\n37\n37\n37\n38\n38\n38\n38\n38\n38\n38\n38\n38\n38\n38\n38\n38\n38\n38\n38\n38\n38\n38\n38\n38\n38\n38\n38\n38\n38\n39\n39\n39\n39\n39\n39\n39\n39\n39\n39\n39\n39\n39\n39\n39\n39\n39\n39\n39\n39\n39\n39\n39\n39\n39\n39\n3\n3\n3\n3\n3\n3\n3\n3\n3\n3\n3\n3\n3\n3\n3\n3\n3\n3\n3\n3\n3\n3\n3\n3\n3\n3\n3\n40\n40\n40\n40\n40\n40\n40\n40\n40\n40\n40\n40\n40\n40\n40\n40\n40\n40\n40\n40\n40\n40\n40\n40\n40\n40\n40\n41\n41\n41\n41\n41\n41\n41\n41\n41\n41\n41\n41\n41\n41\n41\n41\n41\n41\n41\n41\n41\n41\n41\n41\n41\n41\n42\n42\n42\n42\n42\n42\n42\n42\n42\n42\n42\n42\n42\n42\n42\n42\n42\n42\n42\n42\n42\n42\n42\n42\n42\n42\n42\n43\n43\n43\n43\n43\n43\n43\n43\n43\n43\n43\n43\n43\n43\n43\n43\n43\n43\n43\n43\n43\n43\n43\n43\n43\n43\n43\n44\n44\n44\n44\n44\n44\n44\n44\n44\n44\n44\n44\n44\n44\n44\n44\n44\n44\n44\n44\n44\n44\n44\n44\n44\n44\n44\n45\n45\n45\n45\n45\n45\n45\n45\n45\n45\n45\n45\n45\n45\n45\n45\n45\n45\n45\n45\n45\n45\n45\n45\n45\n45\n45\n46\n46\n46\n46\n46\n46\n46\n46\n46\n46\n46\n46\n46\n46\n46\n46\n46\n46\n46\n46\n46\n46\n46\n46\n46\n46\n46\n47\n47\n47\n47\n47\n47\n47\n47\n47\n47\n47\n47\n47\n47\n47\n47\n47\n47\n47\n47\n47\n47\n47\n47\n47\n47\n47\n48\n48\n48\n48\n48\n48\n48\n48\n48\n48\n48\n48\n48\n48\n48\n48\n48\n48\n48\n48\n48\n48\n48\n48\n48\n48\n48\n49\n49\n49\n49\n49\n49\n49\n49\n49\n49\n49\n49\n49\n49\n49\n49\n49\n49\n49\n49\n49\n49\n49\n49\n49\n49\n4\n4\n4\n4\n4\n4\n4\n4\n4\n4\n4\n4\n4\n4\n4\n4\n4\n4\n4\n4\n4\n4\n4\n4\n4\n4\n4\n50\n50\n50\n50\n50\n50\n50\n50\n50\n50\n50\n50\n50\n50\n50\n50\n50\n50\n50\n50\n50\n50\n50\n50\n50\n50\n50\n50\n51\n51\n51\n51\n51\n51\n51\n51\n51\n51\n51\n51\n51\n51\n51\n51\n51\n51\n51\n51\n51\n51\n51\n51\n51\n51\n52\n52\n52\n52\n52\n52\n52\n52\n52\n52\n52\n52\n52\n52\n52\n52\n52\n52\n52\n52\n52\n52\n52\n52\n52\n52\n53\n53\n53\n53\n53\n53\n53\n53\n53\n53\n53\n53\n53\n53\n53\n53\n53\n53\n53\n53\n53\n53\n53\n53\n53\n53\n53\n54\n54\n54\n54\n54\n54\n54\n54\n54\n54\n54\n54\n54\n54\n54\n54\n54\n54\n54\n54\n54\n54\n54\n54\n54\n54\n54\n55\n55\n55\n55\n55\n55\n55\n55\n55\n55\n55\n55\n55\n55\n55\n55\n55\n55\n55\n55\n55\n55\n55\n55\n55\n55\n56\n56\n56\n56\n56\n56\n56\n56\n56\n56\n56\n56\n56\n56\n56\n56\n56\n56\n56\n56\n56\n56\n56\n56\n56\n56\n57\n57\n57\n57\n57\n57\n57\n57\n57\n57\n57\n57\n57\n57\n57\n57\n57\n57\n57\n57\n57\n57\n57\n57\n57\n57\n57\n58\n58\n58\n58\n58\n58\n58\n58\n58\n58\n58\n58\n58\n58\n58\n58\n58\n58\n58\n58\n58\n58\n58\n58\n58\n58\n59\n59\n59\n59\n59\n59\n59\n59\n59\n59\n59\n59\n59\n59\n59\n59\n59\n59\n59\n59\n59\n59\n59\n59\n59\n59\n59\n5\n5\n5\n5\n5\n5\n5\n5\n5\n5\n5\n5\n5\n5\n5\n5\n5\n5\n5\n5\n5\n5\n5\n5\n5\n5\n5\n60\n60\n60\n60\n60\n60\n60\n60\n60\n60\n60\n60\n60\n60\n60\n60\n60\n60\n60\n60\n60\n60\n60\n60\n60\n60\n61\n61\n61\n61\n61\n61\n61\n61\n61\n61\n61\n61\n61\n61\n61\n61\n61\n61\n61\n61\n61\n61\n61\n61\n61\n61\n62\n62\n62\n62\n62\n62\n62\n62\n62\n62\n62\n62\n62\n62\n62\n62\n62\n62\n62\n62\n62\n62\n62\n62\n62\n62\n63\n63\n63\n63\n63\n63\n63\n63\n63\n63\n63\n63\n63\n63\n63\n63\n63\n63\n63\n63\n63\n63\n63\n63\n63\n63\n64\n64\n64\n64\n64\n64\n64\n64\n64\n64\n64\n64\n64\n64\n64\n64\n64\n64\n64\n64\n64\n64\n64\n64\n64\n64\n64\n64\n64\n64\n64\n64\n64\n64\n64\n64\n64\n64\n64\n64\n64\n64\n64\n64\n64\n64\n64\n64\n65\n65\n65\n65\n65\n65\n65\n65\n65\n65\n65\n65\n65\n65\n65\n65\n65\n65\n65\n65\n65\n65\n65\n65\n65\n65\n65\n65\n65\n65\n65\n65\n65\n65\n65\n65\n65\n65\n65\n65\n65\n65\n65\n65\n65\n65\n65\n65\n65\n65\n65\n66\n66\n66\n66\n66\n66\n66\n66\n66\n66\n66\n66\n66\n66\n66\n66\n66\n66\n66\n66\n66\n66\n66\n66\n66\n66\n66\n66\n66\n66\n66\n66\n66\n66\n66\n66\n66\n67\n67\n67\n67\n67\n67\n67\n67\n67\n67\n67\n67\n67\n67\n67\n67\n67\n67\n67\n67\n67\n67\n67\n67\n67\n67\n67\n67\n67\n67\n67\n67\n67\n67\n68\n68\n68\n68\n68\n68\n68\n68\n68\n68\n68\n68\n68\n68\n68\n68\n68\n68\n68\n68\n68\n68\n68\n68\n68\n68\n68\n68\n68\n68\n69\n69\n69\n69\n69\n69\n69\n69\n69\n69\n69\n69\n69\n69\n69\n69\n69\n69\n69\n69\n69\n69\n69\n69\n69\n69\n69\n69\n69\n69\n69\n69\n69\n69\n69\n69\n69\n69\n6\n6\n6\n6\n6\n6\n6\n6\n6\n6\n6\n6\n6\n6\n6\n6\n6\n6\n6\n6\n6\n6\n6\n6\n6\n6\n6\n70\n70\n70\n70\n70\n70\n70\n70\n70\n70\n70\n70\n70\n70\n70\n70\n70\n70\n70\n70\n70\n70\n70\n70\n70\n70\n70\n70\n70\n70\n71\n71\n71\n71\n71\n71\n71\n71\n71\n71\n71\n71\n71\n71\n71\n71\n71\n71\n71\n71\n71\n71\n71\n71\n71\n71\n7\n7\n7\n7\n7\n7\n7\n7\n7\n7\n7\n7\n7\n7\n7\n7\n7\n7\n7\n7\n7\n7\n7\n7\n7\n7\n7\n8\n8\n8\n8\n8\n8\n8\n8\n8\n8\n8\n8\n8\n8\n8\n8\n8\n8\n8\n8\n8\n8\n8\n8\n8\n8\n9\n9\n9\n9\n9\n9\n9\n9\n9\n9\n9\n9\n9\n9\n9\n9\n9\n9\n9\n9\n9\n9\n9\n9\n9\n9\n"
     ]
    }
   ],
   "source": [
    "inputs = glob.glob('input_transformed/flow/*')\n",
    "visited = dict()\n",
    "for input_path in inputs:\n",
    "    \n",
    "    input_path = input_path.replace(\"\\\\\",\"/\")\n",
    "    #print(input_path)\n",
    "    begin = re.search(\"pushup\", input_path).start()+6\n",
    "    \n",
    "    end = re.search(\"_\", input_path[begin:len(input_path)]).start()+begin\n",
    "    #print(begin, end)\n",
    "    visited.append(int(input_path[begin:end]))\n",
    "    \n",
    "    \n",
    "    #optFlowTrans(input_path, True)\n",
    "    "
   ]
  },
  {
   "cell_type": "code",
   "execution_count": null,
   "metadata": {},
   "outputs": [],
   "source": []
  }
 ]
}