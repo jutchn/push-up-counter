{
 "metadata": {
  "language_info": {
   "codemirror_mode": {
    "name": "ipython",
    "version": 3
   },
   "file_extension": ".py",
   "mimetype": "text/x-python",
   "name": "python",
   "nbconvert_exporter": "python",
   "pygments_lexer": "ipython3",
   "version": "3.8.6"
  },
  "orig_nbformat": 2,
  "kernelspec": {
   "name": "python3",
   "display_name": "Python 3.8.6 64-bit",
   "metadata": {
    "interpreter": {
     "hash": "df4093ff62ee000eec078cd02037cca99feaaf0d7513c455654d45fc1e6af41f"
    }
   }
  }
 },
 "nbformat": 4,
 "nbformat_minor": 2,
 "cells": [
  {
   "cell_type": "code",
   "execution_count": 36,
   "metadata": {},
   "outputs": [],
   "source": [
    "import sys\n",
    "sys.path.append(f'E{os.getcwd()[1:]}\\\\RAFT')\n",
    "import argparse\n",
    "import os\n",
    "import cv2 as cv\n",
    "import glob\n",
    "import numpy as np\n",
    "import torch\n",
    "from PIL import Image\n",
    "\n",
    "from raft import RAFT\n",
    "from core.utils import flow_viz\n",
    "from core.utils.utils import InputPadder\n",
    "\n",
    "DEVICE = 'cuda'"
   ]
  },
  {
   "cell_type": "code",
   "execution_count": 42,
   "metadata": {},
   "outputs": [],
   "source": [
    "def load_image(imfile):\n",
    "    img = np.array(Image.open(imfile)).astype(np.uint8)\n",
    "    img = torch.from_numpy(img).permute(2, 0, 1).float()\n",
    "    return img[None].to(DEVICE)\n",
    "\n",
    "\n",
    "def viz(img, flo, outpath, i):\n",
    "    img = img[0].permute(1,2,0).cpu().numpy()\n",
    "    flo = flo[0].permute(1,2,0).cpu().numpy()\n",
    "    \n",
    "    # map flow to rgb image\n",
    "    flo = flow_viz.flow_to_image(flo)\n",
    "    img_flo = np.concatenate([img, flo], axis=0)\n",
    "\n",
    "    # import matplotlib.pyplot as plt\n",
    "    # plt.imshow(img_flo / 255.0)\n",
    "    # plt.show()\n",
    "\n",
    "    \n",
    "    cv.imshow('image', flo[:, :, [2,1,0]]/255.0)\n",
    "    cv.waitKey()\n",
    "\n",
    "\n",
    "def main(args):\n",
    "    model = torch.nn.DataParallel(RAFT(args))\n",
    "    model.load_state_dict(torch.load(args.model))\n",
    "\n",
    "    model = model.module\n",
    "    model.to(DEVICE)\n",
    "    model.eval()\n",
    "    i = 0\n",
    "    with torch.no_grad():\n",
    "        images = glob.glob(os.path.join(args.path, '*.png')) + \\\n",
    "                 glob.glob(os.path.join(args.path, '*.jpg'))\n",
    "        \n",
    "        images = sorted(images)\n",
    "        for imfile1, imfile2 in zip(images[:-1], images[1:]):\n",
    "            print(imfile1, \" \", imfile2)\n",
    "            image1 = load_image(imfile1)\n",
    "            image2 = load_image(imfile2)\n",
    "\n",
    "            padder = InputPadder(image1.shape)\n",
    "            image1, image2 = padder.pad(image1, image2)\n",
    "\n",
    "            flow_low, flow_up = model(image1, image2, iters=20, test_mode=True)\n",
    "            cv.imwrite(f\"{args.outpath}/frame_{i:04d}.png\", flow_up[0].permute(1,2,0).cpu().numpy())\n",
    "            #cv.imwrite(f\"{args.outpath}/frame_{i:04d}.png\", flow_up[:, :, [2,1,0]]/255.0)\n",
    "            #viz(image1, flow_up, args.outpath, i)\n",
    "            i+=1\n"
   ]
  },
  {
   "cell_type": "code",
   "execution_count": 38,
   "metadata": {},
   "outputs": [],
   "source": [
    "class dotdict(dict):\n",
    "    \"\"\"dot.notation access to dictionary attributes\"\"\"\n",
    "    __getattr__ = dict.get\n",
    "    __setattr__ = dict.__setitem__\n",
    "    __delattr__ = dict.__delitem__"
   ]
  },
  {
   "cell_type": "code",
   "execution_count": 43,
   "metadata": {
    "tags": []
   },
   "outputs": [
    {
     "output_type": "stream",
     "name": "stdout",
     "text": [
      "input_transformed/vid/pushup001\\frame_0000.png   input_transformed/vid/pushup001\\frame_0001.png\n"
     ]
    },
    {
     "output_type": "error",
     "ename": "error",
     "evalue": "OpenCV(4.5.2) :-1: error: (-5:Bad argument) in function 'imwrite'\n> Overload resolution failed:\n>  - img is not a numpy array, neither a scalar\n>  - Expected Ptr<cv::UMat> for argument 'img'\n",
     "traceback": [
      "\u001b[1;31m---------------------------------------------------------------------------\u001b[0m",
      "\u001b[1;31merror\u001b[0m                                     Traceback (most recent call last)",
      "\u001b[1;32m<ipython-input-43-69e4222c2821>\u001b[0m in \u001b[0;36m<module>\u001b[1;34m\u001b[0m\n\u001b[0;32m     17\u001b[0m     \u001b[1;32mif\u001b[0m \u001b[1;32mnot\u001b[0m \u001b[0mos\u001b[0m\u001b[1;33m.\u001b[0m\u001b[0mpath\u001b[0m\u001b[1;33m.\u001b[0m\u001b[0mexists\u001b[0m\u001b[1;33m(\u001b[0m\u001b[0moutput_path\u001b[0m\u001b[1;33m)\u001b[0m\u001b[1;33m:\u001b[0m\u001b[1;33m\u001b[0m\u001b[1;33m\u001b[0m\u001b[0m\n\u001b[0;32m     18\u001b[0m         \u001b[0mos\u001b[0m\u001b[1;33m.\u001b[0m\u001b[0mmkdir\u001b[0m\u001b[1;33m(\u001b[0m\u001b[0moutput_path\u001b[0m\u001b[1;33m)\u001b[0m\u001b[1;33m\u001b[0m\u001b[1;33m\u001b[0m\u001b[0m\n\u001b[1;32m---> 19\u001b[1;33m     \u001b[0mmain\u001b[0m\u001b[1;33m(\u001b[0m\u001b[0margs\u001b[0m\u001b[1;33m)\u001b[0m\u001b[1;33m\u001b[0m\u001b[1;33m\u001b[0m\u001b[0m\n\u001b[0m",
      "\u001b[1;32m<ipython-input-42-ada76207d6cd>\u001b[0m in \u001b[0;36mmain\u001b[1;34m(args)\u001b[0m\n\u001b[0;32m     44\u001b[0m \u001b[1;33m\u001b[0m\u001b[0m\n\u001b[0;32m     45\u001b[0m             \u001b[0mflow_low\u001b[0m\u001b[1;33m,\u001b[0m \u001b[0mflow_up\u001b[0m \u001b[1;33m=\u001b[0m \u001b[0mmodel\u001b[0m\u001b[1;33m(\u001b[0m\u001b[0mimage1\u001b[0m\u001b[1;33m,\u001b[0m \u001b[0mimage2\u001b[0m\u001b[1;33m,\u001b[0m \u001b[0miters\u001b[0m\u001b[1;33m=\u001b[0m\u001b[1;36m20\u001b[0m\u001b[1;33m,\u001b[0m \u001b[0mtest_mode\u001b[0m\u001b[1;33m=\u001b[0m\u001b[1;32mTrue\u001b[0m\u001b[1;33m)\u001b[0m\u001b[1;33m\u001b[0m\u001b[1;33m\u001b[0m\u001b[0m\n\u001b[1;32m---> 46\u001b[1;33m             \u001b[0mcv\u001b[0m\u001b[1;33m.\u001b[0m\u001b[0mimwrite\u001b[0m\u001b[1;33m(\u001b[0m\u001b[1;34mf\"{args.outpath}/frame_{i:04d}.png\"\u001b[0m\u001b[1;33m,\u001b[0m \u001b[0mflow_up\u001b[0m\u001b[1;33m)\u001b[0m\u001b[1;33m\u001b[0m\u001b[1;33m\u001b[0m\u001b[0m\n\u001b[0m\u001b[0;32m     47\u001b[0m             \u001b[1;31m#cv.imwrite(f\"{args.outpath}/frame_{i:04d}.png\", flow_up[:, :, [2,1,0]]/255.0)\u001b[0m\u001b[1;33m\u001b[0m\u001b[1;33m\u001b[0m\u001b[1;33m\u001b[0m\u001b[0m\n\u001b[0;32m     48\u001b[0m             \u001b[1;31m#viz(image1, flow_up, args.outpath, i)\u001b[0m\u001b[1;33m\u001b[0m\u001b[1;33m\u001b[0m\u001b[1;33m\u001b[0m\u001b[0m\n",
      "\u001b[1;31merror\u001b[0m: OpenCV(4.5.2) :-1: error: (-5:Bad argument) in function 'imwrite'\n> Overload resolution failed:\n>  - img is not a numpy array, neither a scalar\n>  - Expected Ptr<cv::UMat> for argument 'img'\n"
     ]
    }
   ],
   "source": [
    "if not os.path.exists(f\"input_transformed/RAFT_flow/\"):\n",
    "    os.mkdir(f\"input_transformed/RAFT_flow/\")\n",
    "\n",
    "model = \"RAFT/models/raft-things.pth\"\n",
    "alternate_corr=False\n",
    "mixed_precision=False\n",
    "small = False\n",
    "\n",
    "input_folder = glob.glob('input_transformed/vid/*')\n",
    "\n",
    "for input_path in input_folder:\n",
    "    input_path = input_path.replace(\"\\\\\",\"/\")\n",
    "    output_path = f\"input_transformed/RAFT_flow/{input_path[22:]}/\"\n",
    "    args = {'alternate_corr':alternate_corr,'mixed_precision':mixed_precision,'model':model,'path':input_path,'small':small, 'outpath':output_path}\n",
    "    args = dotdict(args)\n",
    "    \n",
    "    if not os.path.exists(output_path):\n",
    "        os.mkdir(output_path)\n",
    "    main(args)"
   ]
  },
  {
   "cell_type": "code",
   "execution_count": null,
   "metadata": {},
   "outputs": [],
   "source": []
  }
 ]
}